{
 "cells": [
  {
   "cell_type": "code",
   "execution_count": 19,
   "outputs": [],
   "source": [
    "import pandas as pd\n",
    "import random"
   ],
   "metadata": {
    "collapsed": false,
    "pycharm": {
     "name": "#%%\n"
    }
   }
  },
  {
   "cell_type": "code",
   "execution_count": 20,
   "outputs": [],
   "source": [
    "df = pd.read_csv('data/author_info_761.csv')"
   ],
   "metadata": {
    "collapsed": false,
    "pycharm": {
     "name": "#%%\n"
    }
   }
  },
  {
   "cell_type": "code",
   "execution_count": 21,
   "outputs": [
    {
     "data": {
      "text/plain": "                   author      level  level_rank  total_post  \\\n0          naturalplastic    Veteran           3       31146   \n1               Rocket123    Veteran           3        2188   \n2             Hyperborean    Veteran           3         956   \n3            CockneyRebel    Veteran           3      109316   \n4           ZombieBrideXD    Veteran           3        2507   \n..                    ...        ...         ...         ...   \n756        TheEndIsNearUs  Butterfly          16          15   \n757             angryange    Emu Egg          17           1   \n758  AlexandertheSolitary    Veteran           3         945   \n759               Rory Mc    Emu Egg          17           2   \n760            jbamford92    Emu Egg          17           2   \n\n                                             post_link  age  gender  \\\n0    https://wrongplanet.net/forums/search.php?auth...   68    Male   \n1    https://wrongplanet.net/forums/search.php?auth...   60    Male   \n2    https://wrongplanet.net/forums/search.php?auth...   65    Male   \n3    https://wrongplanet.net/forums/search.php?auth...   48    Male   \n4    https://wrongplanet.net/forums/search.php?auth...   25  Female   \n..                                                 ...  ...     ...   \n756  https://wrongplanet.net/forums/search.php?auth...   26    Male   \n757  https://wrongplanet.net/forums/search.php?auth...   41  Female   \n758  https://wrongplanet.net/forums/search.php?auth...   40    Male   \n759  https://wrongplanet.net/forums/search.php?auth...   56    Male   \n760  https://wrongplanet.net/forums/search.php?auth...   30    Male   \n\n                                              location  \\\n0                                       temperate zone   \n1                                        Lost in Space   \n2                                               Europe   \n3    On a special base where the Christmas soldiers...   \n4                                               Canada   \n..                                                 ...   \n756                                              Texas   \n757                                       I hate life.   \n758                                          Melbourne   \n759                                          Tipperary   \n760                                               Cork   \n\n                                            occupation  \\\n0                                       naturalplastic   \n1                                      Systems Analyst   \n2                         Poet and literary translator   \n3                                         Between jobs   \n4                                              Student   \n..                                                 ...   \n756                       File clerk / residential cat   \n757                             working is for suckers   \n758  Currently in part time voluntary employment in...   \n759                Rehabilitation product manufacturer   \n760                                               Home   \n\n                           interests                       diagnosis  \\\n0                            history      Have Aspergers - Diagnosed   \n1               \"Everything Internet      Have Aspergers - Diagnosed   \n2                          Languages  Other autism spectrum disorder   \n3                    Swinging London      Have Aspergers - Diagnosed   \n4                 Sonic the hedgehog      Have Aspergers - Diagnosed   \n..                               ...                             ...   \n756                             Cats  Other autism spectrum disorder   \n757  Nothing anyone else cares about    Not sure if I have it or not   \n758                          History      Have Aspergers - Diagnosed   \n759                          Running                    Neurotypical   \n760                        Computers    Not sure if I have it or not   \n\n    joined_time  joined_year last_visited_time  last_visited_year  \\\n0     2010/8/26         2010         2023/3/30               2023   \n1    2012/12/15         2012         2023/2/25               2023   \n2      2015/1/4         2015        2021/10/29               2021   \n3     2004/7/17         2004         2023/3/21               2023   \n4     2013/1/26         2013          2022/7/2               2022   \n..          ...          ...               ...                ...   \n756    2016/9/9         2016          2017/2/2               2017   \n757   2016/9/12         2016         2016/9/12               2016   \n758  2006/12/26         2006         2016/9/15               2016   \n759    2016/9/5         2016         2016/9/10               2016   \n760    2016/9/1         2016          2016/9/2               2016   \n\n     everyday_post  \n0             6.77  \n1             0.58  \n2             0.32  \n3            16.01  \n4             0.67  \n..             ...  \n756           0.01  \n757           0.00  \n758           0.16  \n759           0.00  \n760           0.00  \n\n[761 rows x 16 columns]",
      "text/html": "<div>\n<style scoped>\n    .dataframe tbody tr th:only-of-type {\n        vertical-align: middle;\n    }\n\n    .dataframe tbody tr th {\n        vertical-align: top;\n    }\n\n    .dataframe thead th {\n        text-align: right;\n    }\n</style>\n<table border=\"1\" class=\"dataframe\">\n  <thead>\n    <tr style=\"text-align: right;\">\n      <th></th>\n      <th>author</th>\n      <th>level</th>\n      <th>level_rank</th>\n      <th>total_post</th>\n      <th>post_link</th>\n      <th>age</th>\n      <th>gender</th>\n      <th>location</th>\n      <th>occupation</th>\n      <th>interests</th>\n      <th>diagnosis</th>\n      <th>joined_time</th>\n      <th>joined_year</th>\n      <th>last_visited_time</th>\n      <th>last_visited_year</th>\n      <th>everyday_post</th>\n    </tr>\n  </thead>\n  <tbody>\n    <tr>\n      <th>0</th>\n      <td>naturalplastic</td>\n      <td>Veteran</td>\n      <td>3</td>\n      <td>31146</td>\n      <td>https://wrongplanet.net/forums/search.php?auth...</td>\n      <td>68</td>\n      <td>Male</td>\n      <td>temperate zone</td>\n      <td>naturalplastic</td>\n      <td>history</td>\n      <td>Have Aspergers - Diagnosed</td>\n      <td>2010/8/26</td>\n      <td>2010</td>\n      <td>2023/3/30</td>\n      <td>2023</td>\n      <td>6.77</td>\n    </tr>\n    <tr>\n      <th>1</th>\n      <td>Rocket123</td>\n      <td>Veteran</td>\n      <td>3</td>\n      <td>2188</td>\n      <td>https://wrongplanet.net/forums/search.php?auth...</td>\n      <td>60</td>\n      <td>Male</td>\n      <td>Lost in Space</td>\n      <td>Systems Analyst</td>\n      <td>\"Everything Internet</td>\n      <td>Have Aspergers - Diagnosed</td>\n      <td>2012/12/15</td>\n      <td>2012</td>\n      <td>2023/2/25</td>\n      <td>2023</td>\n      <td>0.58</td>\n    </tr>\n    <tr>\n      <th>2</th>\n      <td>Hyperborean</td>\n      <td>Veteran</td>\n      <td>3</td>\n      <td>956</td>\n      <td>https://wrongplanet.net/forums/search.php?auth...</td>\n      <td>65</td>\n      <td>Male</td>\n      <td>Europe</td>\n      <td>Poet and literary translator</td>\n      <td>Languages</td>\n      <td>Other autism spectrum disorder</td>\n      <td>2015/1/4</td>\n      <td>2015</td>\n      <td>2021/10/29</td>\n      <td>2021</td>\n      <td>0.32</td>\n    </tr>\n    <tr>\n      <th>3</th>\n      <td>CockneyRebel</td>\n      <td>Veteran</td>\n      <td>3</td>\n      <td>109316</td>\n      <td>https://wrongplanet.net/forums/search.php?auth...</td>\n      <td>48</td>\n      <td>Male</td>\n      <td>On a special base where the Christmas soldiers...</td>\n      <td>Between jobs</td>\n      <td>Swinging London</td>\n      <td>Have Aspergers - Diagnosed</td>\n      <td>2004/7/17</td>\n      <td>2004</td>\n      <td>2023/3/21</td>\n      <td>2023</td>\n      <td>16.01</td>\n    </tr>\n    <tr>\n      <th>4</th>\n      <td>ZombieBrideXD</td>\n      <td>Veteran</td>\n      <td>3</td>\n      <td>2507</td>\n      <td>https://wrongplanet.net/forums/search.php?auth...</td>\n      <td>25</td>\n      <td>Female</td>\n      <td>Canada</td>\n      <td>Student</td>\n      <td>Sonic the hedgehog</td>\n      <td>Have Aspergers - Diagnosed</td>\n      <td>2013/1/26</td>\n      <td>2013</td>\n      <td>2022/7/2</td>\n      <td>2022</td>\n      <td>0.67</td>\n    </tr>\n    <tr>\n      <th>...</th>\n      <td>...</td>\n      <td>...</td>\n      <td>...</td>\n      <td>...</td>\n      <td>...</td>\n      <td>...</td>\n      <td>...</td>\n      <td>...</td>\n      <td>...</td>\n      <td>...</td>\n      <td>...</td>\n      <td>...</td>\n      <td>...</td>\n      <td>...</td>\n      <td>...</td>\n      <td>...</td>\n    </tr>\n    <tr>\n      <th>756</th>\n      <td>TheEndIsNearUs</td>\n      <td>Butterfly</td>\n      <td>16</td>\n      <td>15</td>\n      <td>https://wrongplanet.net/forums/search.php?auth...</td>\n      <td>26</td>\n      <td>Male</td>\n      <td>Texas</td>\n      <td>File clerk / residential cat</td>\n      <td>Cats</td>\n      <td>Other autism spectrum disorder</td>\n      <td>2016/9/9</td>\n      <td>2016</td>\n      <td>2017/2/2</td>\n      <td>2017</td>\n      <td>0.01</td>\n    </tr>\n    <tr>\n      <th>757</th>\n      <td>angryange</td>\n      <td>Emu Egg</td>\n      <td>17</td>\n      <td>1</td>\n      <td>https://wrongplanet.net/forums/search.php?auth...</td>\n      <td>41</td>\n      <td>Female</td>\n      <td>I hate life.</td>\n      <td>working is for suckers</td>\n      <td>Nothing anyone else cares about</td>\n      <td>Not sure if I have it or not</td>\n      <td>2016/9/12</td>\n      <td>2016</td>\n      <td>2016/9/12</td>\n      <td>2016</td>\n      <td>0.00</td>\n    </tr>\n    <tr>\n      <th>758</th>\n      <td>AlexandertheSolitary</td>\n      <td>Veteran</td>\n      <td>3</td>\n      <td>945</td>\n      <td>https://wrongplanet.net/forums/search.php?auth...</td>\n      <td>40</td>\n      <td>Male</td>\n      <td>Melbourne</td>\n      <td>Currently in part time voluntary employment in...</td>\n      <td>History</td>\n      <td>Have Aspergers - Diagnosed</td>\n      <td>2006/12/26</td>\n      <td>2006</td>\n      <td>2016/9/15</td>\n      <td>2016</td>\n      <td>0.16</td>\n    </tr>\n    <tr>\n      <th>759</th>\n      <td>Rory Mc</td>\n      <td>Emu Egg</td>\n      <td>17</td>\n      <td>2</td>\n      <td>https://wrongplanet.net/forums/search.php?auth...</td>\n      <td>56</td>\n      <td>Male</td>\n      <td>Tipperary</td>\n      <td>Rehabilitation product manufacturer</td>\n      <td>Running</td>\n      <td>Neurotypical</td>\n      <td>2016/9/5</td>\n      <td>2016</td>\n      <td>2016/9/10</td>\n      <td>2016</td>\n      <td>0.00</td>\n    </tr>\n    <tr>\n      <th>760</th>\n      <td>jbamford92</td>\n      <td>Emu Egg</td>\n      <td>17</td>\n      <td>2</td>\n      <td>https://wrongplanet.net/forums/search.php?auth...</td>\n      <td>30</td>\n      <td>Male</td>\n      <td>Cork</td>\n      <td>Home</td>\n      <td>Computers</td>\n      <td>Not sure if I have it or not</td>\n      <td>2016/9/1</td>\n      <td>2016</td>\n      <td>2016/9/2</td>\n      <td>2016</td>\n      <td>0.00</td>\n    </tr>\n  </tbody>\n</table>\n<p>761 rows × 16 columns</p>\n</div>"
     },
     "execution_count": 21,
     "metadata": {},
     "output_type": "execute_result"
    }
   ],
   "source": [
    "df.dropna()"
   ],
   "metadata": {
    "collapsed": false,
    "pycharm": {
     "name": "#%%\n"
    }
   }
  },
  {
   "cell_type": "code",
   "execution_count": 22,
   "outputs": [
    {
     "data": {
      "text/plain": "                   author      level  level_rank  total_post  \\\n0          naturalplastic    Veteran           3       31146   \n1               Rocket123    Veteran           3        2188   \n3            CockneyRebel    Veteran           3      109316   \n4           ZombieBrideXD    Veteran           3        2507   \n5           rats_and_cats    Veteran           3         627   \n..                    ...        ...         ...         ...   \n752           Kyleewrites    Emu Egg          17           1   \n753          EllipsisKiwi    Emu Egg          17           3   \n754          GuitarJamz16    Emu Egg          17           3   \n755             Tapatio27  Butterfly          16          16   \n758  AlexandertheSolitary    Veteran           3         945   \n\n                                             post_link  age  gender  \\\n0    https://wrongplanet.net/forums/search.php?auth...   68    Male   \n1    https://wrongplanet.net/forums/search.php?auth...   60    Male   \n3    https://wrongplanet.net/forums/search.php?auth...   48    Male   \n4    https://wrongplanet.net/forums/search.php?auth...   25  Female   \n5    https://wrongplanet.net/forums/search.php?auth...   26  Female   \n..                                                 ...  ...     ...   \n752  https://wrongplanet.net/forums/search.php?auth...   25  Female   \n753  https://wrongplanet.net/forums/search.php?auth...   28  Female   \n754  https://wrongplanet.net/forums/search.php?auth...   63    Male   \n755  https://wrongplanet.net/forums/search.php?auth...   33    Male   \n758  https://wrongplanet.net/forums/search.php?auth...   40    Male   \n\n                                              location  \\\n0                                       temperate zone   \n1                                        Lost in Space   \n3    On a special base where the Christmas soldiers...   \n4                                               Canada   \n5                                                  USA   \n..                                                 ...   \n752                                             Fresno   \n753                                          Tennessee   \n754                                     Bonita Springs   \n755                                        Guadalajara   \n758                                          Melbourne   \n\n                                            occupation  \\\n0                                       naturalplastic   \n1                                      Systems Analyst   \n3                                         Between jobs   \n4                                              Student   \n5                                              Student   \n..                                                 ...   \n752                                             Writer   \n753                                         File Clerk   \n754                                          Utilities   \n755                                         Translator   \n758  Currently in part time voluntary employment in...   \n\n                       interests                   diagnosis joined_time  \\\n0                        history  Have Aspergers - Diagnosed   2010/8/26   \n1           \"Everything Internet  Have Aspergers - Diagnosed  2012/12/15   \n3                Swinging London  Have Aspergers - Diagnosed   2004/7/17   \n4             Sonic the hedgehog  Have Aspergers - Diagnosed   2013/1/26   \n5    too many fandoms to mention  Have Aspergers - Diagnosed   2016/7/28   \n..                           ...                         ...         ...   \n752                      Writing  Have Aspergers - Diagnosed   2016/10/4   \n753                      Reading  Have Aspergers - Diagnosed   2016/10/4   \n754                        Music  Have Aspergers - Diagnosed   2016/9/28   \n755                 Anthropology  Have Aspergers - Diagnosed   2016/9/28   \n758                      History  Have Aspergers - Diagnosed  2006/12/26   \n\n     joined_year last_visited_time  last_visited_year  everyday_post  \n0           2010         2023/3/30               2023           6.77  \n1           2012         2023/2/25               2023           0.58  \n3           2004         2023/3/21               2023          16.01  \n4           2013          2022/7/2               2022           0.67  \n5           2016        2019/12/25               2019           0.26  \n..           ...               ...                ...            ...  \n752         2016          2017/8/8               2017           0.00  \n753         2016        2016/10/14               2016           0.00  \n754         2016         2021/7/18               2021           0.00  \n755         2016         2018/8/27               2018           0.01  \n758         2006         2016/9/15               2016           0.16  \n\n[503 rows x 16 columns]",
      "text/html": "<div>\n<style scoped>\n    .dataframe tbody tr th:only-of-type {\n        vertical-align: middle;\n    }\n\n    .dataframe tbody tr th {\n        vertical-align: top;\n    }\n\n    .dataframe thead th {\n        text-align: right;\n    }\n</style>\n<table border=\"1\" class=\"dataframe\">\n  <thead>\n    <tr style=\"text-align: right;\">\n      <th></th>\n      <th>author</th>\n      <th>level</th>\n      <th>level_rank</th>\n      <th>total_post</th>\n      <th>post_link</th>\n      <th>age</th>\n      <th>gender</th>\n      <th>location</th>\n      <th>occupation</th>\n      <th>interests</th>\n      <th>diagnosis</th>\n      <th>joined_time</th>\n      <th>joined_year</th>\n      <th>last_visited_time</th>\n      <th>last_visited_year</th>\n      <th>everyday_post</th>\n    </tr>\n  </thead>\n  <tbody>\n    <tr>\n      <th>0</th>\n      <td>naturalplastic</td>\n      <td>Veteran</td>\n      <td>3</td>\n      <td>31146</td>\n      <td>https://wrongplanet.net/forums/search.php?auth...</td>\n      <td>68</td>\n      <td>Male</td>\n      <td>temperate zone</td>\n      <td>naturalplastic</td>\n      <td>history</td>\n      <td>Have Aspergers - Diagnosed</td>\n      <td>2010/8/26</td>\n      <td>2010</td>\n      <td>2023/3/30</td>\n      <td>2023</td>\n      <td>6.77</td>\n    </tr>\n    <tr>\n      <th>1</th>\n      <td>Rocket123</td>\n      <td>Veteran</td>\n      <td>3</td>\n      <td>2188</td>\n      <td>https://wrongplanet.net/forums/search.php?auth...</td>\n      <td>60</td>\n      <td>Male</td>\n      <td>Lost in Space</td>\n      <td>Systems Analyst</td>\n      <td>\"Everything Internet</td>\n      <td>Have Aspergers - Diagnosed</td>\n      <td>2012/12/15</td>\n      <td>2012</td>\n      <td>2023/2/25</td>\n      <td>2023</td>\n      <td>0.58</td>\n    </tr>\n    <tr>\n      <th>3</th>\n      <td>CockneyRebel</td>\n      <td>Veteran</td>\n      <td>3</td>\n      <td>109316</td>\n      <td>https://wrongplanet.net/forums/search.php?auth...</td>\n      <td>48</td>\n      <td>Male</td>\n      <td>On a special base where the Christmas soldiers...</td>\n      <td>Between jobs</td>\n      <td>Swinging London</td>\n      <td>Have Aspergers - Diagnosed</td>\n      <td>2004/7/17</td>\n      <td>2004</td>\n      <td>2023/3/21</td>\n      <td>2023</td>\n      <td>16.01</td>\n    </tr>\n    <tr>\n      <th>4</th>\n      <td>ZombieBrideXD</td>\n      <td>Veteran</td>\n      <td>3</td>\n      <td>2507</td>\n      <td>https://wrongplanet.net/forums/search.php?auth...</td>\n      <td>25</td>\n      <td>Female</td>\n      <td>Canada</td>\n      <td>Student</td>\n      <td>Sonic the hedgehog</td>\n      <td>Have Aspergers - Diagnosed</td>\n      <td>2013/1/26</td>\n      <td>2013</td>\n      <td>2022/7/2</td>\n      <td>2022</td>\n      <td>0.67</td>\n    </tr>\n    <tr>\n      <th>5</th>\n      <td>rats_and_cats</td>\n      <td>Veteran</td>\n      <td>3</td>\n      <td>627</td>\n      <td>https://wrongplanet.net/forums/search.php?auth...</td>\n      <td>26</td>\n      <td>Female</td>\n      <td>USA</td>\n      <td>Student</td>\n      <td>too many fandoms to mention</td>\n      <td>Have Aspergers - Diagnosed</td>\n      <td>2016/7/28</td>\n      <td>2016</td>\n      <td>2019/12/25</td>\n      <td>2019</td>\n      <td>0.26</td>\n    </tr>\n    <tr>\n      <th>...</th>\n      <td>...</td>\n      <td>...</td>\n      <td>...</td>\n      <td>...</td>\n      <td>...</td>\n      <td>...</td>\n      <td>...</td>\n      <td>...</td>\n      <td>...</td>\n      <td>...</td>\n      <td>...</td>\n      <td>...</td>\n      <td>...</td>\n      <td>...</td>\n      <td>...</td>\n      <td>...</td>\n    </tr>\n    <tr>\n      <th>752</th>\n      <td>Kyleewrites</td>\n      <td>Emu Egg</td>\n      <td>17</td>\n      <td>1</td>\n      <td>https://wrongplanet.net/forums/search.php?auth...</td>\n      <td>25</td>\n      <td>Female</td>\n      <td>Fresno</td>\n      <td>Writer</td>\n      <td>Writing</td>\n      <td>Have Aspergers - Diagnosed</td>\n      <td>2016/10/4</td>\n      <td>2016</td>\n      <td>2017/8/8</td>\n      <td>2017</td>\n      <td>0.00</td>\n    </tr>\n    <tr>\n      <th>753</th>\n      <td>EllipsisKiwi</td>\n      <td>Emu Egg</td>\n      <td>17</td>\n      <td>3</td>\n      <td>https://wrongplanet.net/forums/search.php?auth...</td>\n      <td>28</td>\n      <td>Female</td>\n      <td>Tennessee</td>\n      <td>File Clerk</td>\n      <td>Reading</td>\n      <td>Have Aspergers - Diagnosed</td>\n      <td>2016/10/4</td>\n      <td>2016</td>\n      <td>2016/10/14</td>\n      <td>2016</td>\n      <td>0.00</td>\n    </tr>\n    <tr>\n      <th>754</th>\n      <td>GuitarJamz16</td>\n      <td>Emu Egg</td>\n      <td>17</td>\n      <td>3</td>\n      <td>https://wrongplanet.net/forums/search.php?auth...</td>\n      <td>63</td>\n      <td>Male</td>\n      <td>Bonita Springs</td>\n      <td>Utilities</td>\n      <td>Music</td>\n      <td>Have Aspergers - Diagnosed</td>\n      <td>2016/9/28</td>\n      <td>2016</td>\n      <td>2021/7/18</td>\n      <td>2021</td>\n      <td>0.00</td>\n    </tr>\n    <tr>\n      <th>755</th>\n      <td>Tapatio27</td>\n      <td>Butterfly</td>\n      <td>16</td>\n      <td>16</td>\n      <td>https://wrongplanet.net/forums/search.php?auth...</td>\n      <td>33</td>\n      <td>Male</td>\n      <td>Guadalajara</td>\n      <td>Translator</td>\n      <td>Anthropology</td>\n      <td>Have Aspergers - Diagnosed</td>\n      <td>2016/9/28</td>\n      <td>2016</td>\n      <td>2018/8/27</td>\n      <td>2018</td>\n      <td>0.01</td>\n    </tr>\n    <tr>\n      <th>758</th>\n      <td>AlexandertheSolitary</td>\n      <td>Veteran</td>\n      <td>3</td>\n      <td>945</td>\n      <td>https://wrongplanet.net/forums/search.php?auth...</td>\n      <td>40</td>\n      <td>Male</td>\n      <td>Melbourne</td>\n      <td>Currently in part time voluntary employment in...</td>\n      <td>History</td>\n      <td>Have Aspergers - Diagnosed</td>\n      <td>2006/12/26</td>\n      <td>2006</td>\n      <td>2016/9/15</td>\n      <td>2016</td>\n      <td>0.16</td>\n    </tr>\n  </tbody>\n</table>\n<p>503 rows × 16 columns</p>\n</div>"
     },
     "execution_count": 22,
     "metadata": {},
     "output_type": "execute_result"
    }
   ],
   "source": [
    "df_diagnosis = df[df['diagnosis'] == 'Have Aspergers - Diagnosed']\n",
    "df_diagnosis"
   ],
   "metadata": {
    "collapsed": false,
    "pycharm": {
     "name": "#%%\n"
    }
   }
  },
  {
   "cell_type": "code",
   "execution_count": 23,
   "outputs": [
    {
     "data": {
      "text/plain": "                   author      level  level_rank  total_post  \\\n0          naturalplastic    Veteran           3       31146   \n1               Rocket123    Veteran           3        2188   \n2             Hyperborean    Veteran           3         956   \n3            CockneyRebel    Veteran           3      109316   \n4           ZombieBrideXD    Veteran           3        2507   \n..                    ...        ...         ...         ...   \n551            puzzledoll  Snowy Owl          10         167   \n561            tensordyne   Sea Gull           8         209   \n610             Ragnahawk  Snowy Owl          10         156   \n662     SilverBoltsisWmax   Sea Gull           8         245   \n758  AlexandertheSolitary    Veteran           3         945   \n\n                                             post_link  age  gender  \\\n0    https://wrongplanet.net/forums/search.php?auth...   68    Male   \n1    https://wrongplanet.net/forums/search.php?auth...   60    Male   \n2    https://wrongplanet.net/forums/search.php?auth...   65    Male   \n3    https://wrongplanet.net/forums/search.php?auth...   48    Male   \n4    https://wrongplanet.net/forums/search.php?auth...   25  Female   \n..                                                 ...  ...     ...   \n551  https://wrongplanet.net/forums/search.php?auth...   46  Female   \n561  https://wrongplanet.net/forums/search.php?auth...   47    Male   \n610  https://wrongplanet.net/forums/search.php?auth...   29    Male   \n662  https://wrongplanet.net/forums/search.php?auth...   30    Male   \n758  https://wrongplanet.net/forums/search.php?auth...   40    Male   \n\n                                              location  \\\n0                                       temperate zone   \n1                                        Lost in Space   \n2                                               Europe   \n3    On a special base where the Christmas soldiers...   \n4                                               Canada   \n..                                                 ...   \n551                         the mountains by the ocean   \n561                                           Kirkland   \n610                                         Fort Bragg   \n662                                     South Carolina   \n758                                          Melbourne   \n\n                                            occupation  \\\n0                                       naturalplastic   \n1                                      Systems Analyst   \n2                         Poet and literary translator   \n3                                         Between jobs   \n4                                              Student   \n..                                                 ...   \n551                                 homeschool teacher   \n561                                               None   \n610                                              Clerk   \n662                                             waiter   \n758  Currently in part time voluntary employment in...   \n\n                    interests                       diagnosis joined_time  \\\n0                     history      Have Aspergers - Diagnosed   2010/8/26   \n1        \"Everything Internet      Have Aspergers - Diagnosed  2012/12/15   \n2                   Languages  Other autism spectrum disorder    2015/1/4   \n3             Swinging London      Have Aspergers - Diagnosed   2004/7/17   \n4          Sonic the hedgehog      Have Aspergers - Diagnosed   2013/1/26   \n..                        ...                             ...         ...   \n551          most things geek      Have Aspergers - Diagnosed   2017/4/10   \n561                      Math    Have Aspergers - Undiagnosed    2017/4/2   \n610                    Gaming      Have Aspergers - Diagnosed   2017/10/4   \n662  League of Legends/School      Have Aspergers - Diagnosed   2017/8/12   \n758                   History      Have Aspergers - Diagnosed  2006/12/26   \n\n     joined_year last_visited_time  last_visited_year  everyday_post  \n0           2010         2023/3/30               2023           6.77  \n1           2012         2023/2/25               2023           0.58  \n2           2015        2021/10/29               2021           0.32  \n3           2004         2023/3/21               2023          16.01  \n4           2013          2022/7/2               2022           0.67  \n..           ...               ...                ...            ...  \n551         2017          2019/3/7               2019           0.08  \n561         2017         2021/7/10               2021           0.10  \n610         2017         2017/12/8               2017           0.08  \n662         2017         2018/2/22               2018           0.12  \n758         2006         2016/9/15               2016           0.16  \n\n[151 rows x 16 columns]",
      "text/html": "<div>\n<style scoped>\n    .dataframe tbody tr th:only-of-type {\n        vertical-align: middle;\n    }\n\n    .dataframe tbody tr th {\n        vertical-align: top;\n    }\n\n    .dataframe thead th {\n        text-align: right;\n    }\n</style>\n<table border=\"1\" class=\"dataframe\">\n  <thead>\n    <tr style=\"text-align: right;\">\n      <th></th>\n      <th>author</th>\n      <th>level</th>\n      <th>level_rank</th>\n      <th>total_post</th>\n      <th>post_link</th>\n      <th>age</th>\n      <th>gender</th>\n      <th>location</th>\n      <th>occupation</th>\n      <th>interests</th>\n      <th>diagnosis</th>\n      <th>joined_time</th>\n      <th>joined_year</th>\n      <th>last_visited_time</th>\n      <th>last_visited_year</th>\n      <th>everyday_post</th>\n    </tr>\n  </thead>\n  <tbody>\n    <tr>\n      <th>0</th>\n      <td>naturalplastic</td>\n      <td>Veteran</td>\n      <td>3</td>\n      <td>31146</td>\n      <td>https://wrongplanet.net/forums/search.php?auth...</td>\n      <td>68</td>\n      <td>Male</td>\n      <td>temperate zone</td>\n      <td>naturalplastic</td>\n      <td>history</td>\n      <td>Have Aspergers - Diagnosed</td>\n      <td>2010/8/26</td>\n      <td>2010</td>\n      <td>2023/3/30</td>\n      <td>2023</td>\n      <td>6.77</td>\n    </tr>\n    <tr>\n      <th>1</th>\n      <td>Rocket123</td>\n      <td>Veteran</td>\n      <td>3</td>\n      <td>2188</td>\n      <td>https://wrongplanet.net/forums/search.php?auth...</td>\n      <td>60</td>\n      <td>Male</td>\n      <td>Lost in Space</td>\n      <td>Systems Analyst</td>\n      <td>\"Everything Internet</td>\n      <td>Have Aspergers - Diagnosed</td>\n      <td>2012/12/15</td>\n      <td>2012</td>\n      <td>2023/2/25</td>\n      <td>2023</td>\n      <td>0.58</td>\n    </tr>\n    <tr>\n      <th>2</th>\n      <td>Hyperborean</td>\n      <td>Veteran</td>\n      <td>3</td>\n      <td>956</td>\n      <td>https://wrongplanet.net/forums/search.php?auth...</td>\n      <td>65</td>\n      <td>Male</td>\n      <td>Europe</td>\n      <td>Poet and literary translator</td>\n      <td>Languages</td>\n      <td>Other autism spectrum disorder</td>\n      <td>2015/1/4</td>\n      <td>2015</td>\n      <td>2021/10/29</td>\n      <td>2021</td>\n      <td>0.32</td>\n    </tr>\n    <tr>\n      <th>3</th>\n      <td>CockneyRebel</td>\n      <td>Veteran</td>\n      <td>3</td>\n      <td>109316</td>\n      <td>https://wrongplanet.net/forums/search.php?auth...</td>\n      <td>48</td>\n      <td>Male</td>\n      <td>On a special base where the Christmas soldiers...</td>\n      <td>Between jobs</td>\n      <td>Swinging London</td>\n      <td>Have Aspergers - Diagnosed</td>\n      <td>2004/7/17</td>\n      <td>2004</td>\n      <td>2023/3/21</td>\n      <td>2023</td>\n      <td>16.01</td>\n    </tr>\n    <tr>\n      <th>4</th>\n      <td>ZombieBrideXD</td>\n      <td>Veteran</td>\n      <td>3</td>\n      <td>2507</td>\n      <td>https://wrongplanet.net/forums/search.php?auth...</td>\n      <td>25</td>\n      <td>Female</td>\n      <td>Canada</td>\n      <td>Student</td>\n      <td>Sonic the hedgehog</td>\n      <td>Have Aspergers - Diagnosed</td>\n      <td>2013/1/26</td>\n      <td>2013</td>\n      <td>2022/7/2</td>\n      <td>2022</td>\n      <td>0.67</td>\n    </tr>\n    <tr>\n      <th>...</th>\n      <td>...</td>\n      <td>...</td>\n      <td>...</td>\n      <td>...</td>\n      <td>...</td>\n      <td>...</td>\n      <td>...</td>\n      <td>...</td>\n      <td>...</td>\n      <td>...</td>\n      <td>...</td>\n      <td>...</td>\n      <td>...</td>\n      <td>...</td>\n      <td>...</td>\n      <td>...</td>\n    </tr>\n    <tr>\n      <th>551</th>\n      <td>puzzledoll</td>\n      <td>Snowy Owl</td>\n      <td>10</td>\n      <td>167</td>\n      <td>https://wrongplanet.net/forums/search.php?auth...</td>\n      <td>46</td>\n      <td>Female</td>\n      <td>the mountains by the ocean</td>\n      <td>homeschool teacher</td>\n      <td>most things geek</td>\n      <td>Have Aspergers - Diagnosed</td>\n      <td>2017/4/10</td>\n      <td>2017</td>\n      <td>2019/3/7</td>\n      <td>2019</td>\n      <td>0.08</td>\n    </tr>\n    <tr>\n      <th>561</th>\n      <td>tensordyne</td>\n      <td>Sea Gull</td>\n      <td>8</td>\n      <td>209</td>\n      <td>https://wrongplanet.net/forums/search.php?auth...</td>\n      <td>47</td>\n      <td>Male</td>\n      <td>Kirkland</td>\n      <td>None</td>\n      <td>Math</td>\n      <td>Have Aspergers - Undiagnosed</td>\n      <td>2017/4/2</td>\n      <td>2017</td>\n      <td>2021/7/10</td>\n      <td>2021</td>\n      <td>0.10</td>\n    </tr>\n    <tr>\n      <th>610</th>\n      <td>Ragnahawk</td>\n      <td>Snowy Owl</td>\n      <td>10</td>\n      <td>156</td>\n      <td>https://wrongplanet.net/forums/search.php?auth...</td>\n      <td>29</td>\n      <td>Male</td>\n      <td>Fort Bragg</td>\n      <td>Clerk</td>\n      <td>Gaming</td>\n      <td>Have Aspergers - Diagnosed</td>\n      <td>2017/10/4</td>\n      <td>2017</td>\n      <td>2017/12/8</td>\n      <td>2017</td>\n      <td>0.08</td>\n    </tr>\n    <tr>\n      <th>662</th>\n      <td>SilverBoltsisWmax</td>\n      <td>Sea Gull</td>\n      <td>8</td>\n      <td>245</td>\n      <td>https://wrongplanet.net/forums/search.php?auth...</td>\n      <td>30</td>\n      <td>Male</td>\n      <td>South Carolina</td>\n      <td>waiter</td>\n      <td>League of Legends/School</td>\n      <td>Have Aspergers - Diagnosed</td>\n      <td>2017/8/12</td>\n      <td>2017</td>\n      <td>2018/2/22</td>\n      <td>2018</td>\n      <td>0.12</td>\n    </tr>\n    <tr>\n      <th>758</th>\n      <td>AlexandertheSolitary</td>\n      <td>Veteran</td>\n      <td>3</td>\n      <td>945</td>\n      <td>https://wrongplanet.net/forums/search.php?auth...</td>\n      <td>40</td>\n      <td>Male</td>\n      <td>Melbourne</td>\n      <td>Currently in part time voluntary employment in...</td>\n      <td>History</td>\n      <td>Have Aspergers - Diagnosed</td>\n      <td>2006/12/26</td>\n      <td>2006</td>\n      <td>2016/9/15</td>\n      <td>2016</td>\n      <td>0.16</td>\n    </tr>\n  </tbody>\n</table>\n<p>151 rows × 16 columns</p>\n</div>"
     },
     "execution_count": 23,
     "metadata": {},
     "output_type": "execute_result"
    }
   ],
   "source": [
    "df['everyday_post'] = pd.to_numeric(df['everyday_post'], errors='coerce')\n",
    "index_ep = df['everyday_post'] > 0.07\n",
    "df_ep_k = df[index_ep]\n",
    "df_ep_k"
   ],
   "metadata": {
    "collapsed": false,
    "pycharm": {
     "name": "#%%\n"
    }
   }
  },
  {
   "cell_type": "code",
   "execution_count": 24,
   "outputs": [],
   "source": [
    "author_diagnosis_set = set(df_diagnosis['author'].values)\n",
    "author_ep_set = set(df_ep_k['author'].values)\n",
    "# author_ep_set"
   ],
   "metadata": {
    "collapsed": false,
    "pycharm": {
     "name": "#%%\n"
    }
   }
  },
  {
   "cell_type": "code",
   "execution_count": 25,
   "outputs": [
    {
     "name": "stderr",
     "output_type": "stream",
     "text": [
      "D:\\python\\Anaconda\\lib\\site-packages\\IPython\\core\\interactiveshell.py:3063: DtypeWarning: Columns (5,6) have mixed types.Specify dtype option on import or set low_memory=False.\n",
      "  interactivity=interactivity, compiler=compiler, result=result)\n"
     ]
    },
    {
     "data": {
      "text/plain": "        Unnamed: 0          author              post_time  \\\n0                0  naturalplastic   22 Apr 2023, 8:58 pm   \n1                1  naturalplastic   14 Apr 2023, 8:14 pm   \n2                2  naturalplastic   16 Apr 2023, 4:35 pm   \n3                3  naturalplastic   19 Apr 2023, 4:10 pm   \n4                4  naturalplastic     Yesterday, 6:12 pm   \n...            ...             ...                    ...   \n496890      496918       CodyD8786  12 Oct 2016, 11:31 pm   \n496891      496919       CodyD8786  12 Oct 2016, 12:15 pm   \n496892      496920    GuitarJamz16   29 Sep 2016, 6:10 pm   \n496893      496921    GuitarJamz16   29 Sep 2016, 2:41 pm   \n496894      496922    GuitarJamz16   28 Sep 2016, 7:22 pm   \n\n                            forum  \\\n0         News and Current Events   \n1                       The Haven   \n2               Random Discussion   \n3                       The Haven   \n4         News and Current Events   \n...                           ...   \n496890  General Autism Discussion   \n496891  General Autism Discussion   \n496892                  The Haven   \n496893            Love and Dating   \n496894  General Autism Discussion   \n\n                                                    topic  reply     view  \\\n0       Netflix causes international uproar over Cleop...     44      961   \n1                                        Serious Question     54      649   \n2                 What's the last weirdest dream you had?   3785   131842   \n3          Why do people believe in the insanity defense?     16      248   \n4                                 Tucker Carlson canceled     28      470   \n...                                                   ...    ...      ...   \n496890                              facebook page for ASD      3      403   \n496891           Do you consider yourself a happy person?     19      776   \n496892    scale of -10 to +10, how do you feel right now?  35050  1729069   \n496893  Eligible Odd-Bods! - The Premier Aspergian Sin...   3733  1251231   \n496894  Does anyone else with Asperger's have issues w...     52     1818   \n\n                                                post_link  \\\n0       https://wrongplanet.net/forums//viewtopic.php?...   \n1       https://wrongplanet.net/forums//viewtopic.php?...   \n2       https://wrongplanet.net/forums//viewtopic.php?...   \n3       https://wrongplanet.net/forums//viewtopic.php?...   \n4       https://wrongplanet.net/forums//viewtopic.php?...   \n...                                                   ...   \n496890  https://wrongplanet.net/forums//viewtopic.php?...   \n496891  https://wrongplanet.net/forums//viewtopic.php?...   \n496892  https://wrongplanet.net/forums//viewtopic.php?...   \n496893  https://wrongplanet.net/forums//viewtopic.php?...   \n496894  https://wrongplanet.net/forums//viewtopic.php?...   \n\n                                             post_content         p_t  ...  \\\n0       ^You displayed sanity in this post...until the...  22 04 2023  ...   \n1       babybird wrote:Yes it is. I'm just saying that...  14 04 2023  ...   \n2       Aspinator wrote:I dreamed I was a crewman on a...  16 04 2023  ...   \n3       \"Insanity\" doesnt mean the same thing in law a...  19 04 2023  ...   \n4       MuddRM wrote:funeralxempire wrote:MuddRM wrote...  25 04 2023  ...   \n...                                                   ...         ...  ...   \n496890  \\nThat would be awesome considering I just got...  12 10 2016  ...   \n496891  \\nMost of the time I am happy. I have had the ...  12 10 2016  ...   \n496892  \\n0. Quite simply. At a coffee shop, everyone ...  29 09 2016  ...   \n496893  \\nAny stories of hookups in WP? I just joined!...  29 09 2016  ...   \n496894  \\nI'm 57 (ugh), but missed out on normal teena...  28 09 2016  ...   \n\n       nonflu  filler  AllPunc  Period  Comma  QMark  Exclam  Apostro  OtherP  \\\n0        0.00     0.0    15.35    7.48   4.33   1.18    0.00     0.00    2.36   \n1        0.00     0.0    12.90    8.06   0.00   0.00    0.00     3.23    1.61   \n2        0.00     0.0    18.81    8.91   0.00   1.98    0.00     0.99    6.93   \n3        0.00     0.0    18.35    6.42   2.75   0.00    0.00     0.00    9.17   \n4        0.00     0.0    27.98    6.55   2.98   0.60    0.60     1.79   15.48   \n...       ...     ...      ...     ...    ...    ...     ...      ...     ...   \n496890   0.00     0.0    10.53   10.53   0.00   0.00    0.00     0.00    0.00   \n496891   0.00     0.0    14.52    9.68   0.00   0.00    0.00     1.61    3.23   \n496892   0.00     0.0    24.49   10.20  12.24   0.00    0.00     0.00    2.04   \n496893   0.00     0.0    22.22    0.00   0.00  11.11   11.11     0.00    0.00   \n496894   1.69     0.0    27.12    6.78  10.17   0.00    0.00     3.39    6.78   \n\n        Emoji  \n0         0.0  \n1         0.0  \n2         0.0  \n3         0.0  \n4         0.0  \n...       ...  \n496890    0.0  \n496891    0.0  \n496892    0.0  \n496893    0.0  \n496894    0.0  \n\n[373504 rows x 130 columns]",
      "text/html": "<div>\n<style scoped>\n    .dataframe tbody tr th:only-of-type {\n        vertical-align: middle;\n    }\n\n    .dataframe tbody tr th {\n        vertical-align: top;\n    }\n\n    .dataframe thead th {\n        text-align: right;\n    }\n</style>\n<table border=\"1\" class=\"dataframe\">\n  <thead>\n    <tr style=\"text-align: right;\">\n      <th></th>\n      <th>Unnamed: 0</th>\n      <th>author</th>\n      <th>post_time</th>\n      <th>forum</th>\n      <th>topic</th>\n      <th>reply</th>\n      <th>view</th>\n      <th>post_link</th>\n      <th>post_content</th>\n      <th>p_t</th>\n      <th>...</th>\n      <th>nonflu</th>\n      <th>filler</th>\n      <th>AllPunc</th>\n      <th>Period</th>\n      <th>Comma</th>\n      <th>QMark</th>\n      <th>Exclam</th>\n      <th>Apostro</th>\n      <th>OtherP</th>\n      <th>Emoji</th>\n    </tr>\n  </thead>\n  <tbody>\n    <tr>\n      <th>0</th>\n      <td>0</td>\n      <td>naturalplastic</td>\n      <td>22 Apr 2023, 8:58 pm</td>\n      <td>News and Current Events</td>\n      <td>Netflix causes international uproar over Cleop...</td>\n      <td>44</td>\n      <td>961</td>\n      <td>https://wrongplanet.net/forums//viewtopic.php?...</td>\n      <td>^You displayed sanity in this post...until the...</td>\n      <td>22 04 2023</td>\n      <td>...</td>\n      <td>0.00</td>\n      <td>0.0</td>\n      <td>15.35</td>\n      <td>7.48</td>\n      <td>4.33</td>\n      <td>1.18</td>\n      <td>0.00</td>\n      <td>0.00</td>\n      <td>2.36</td>\n      <td>0.0</td>\n    </tr>\n    <tr>\n      <th>1</th>\n      <td>1</td>\n      <td>naturalplastic</td>\n      <td>14 Apr 2023, 8:14 pm</td>\n      <td>The Haven</td>\n      <td>Serious Question</td>\n      <td>54</td>\n      <td>649</td>\n      <td>https://wrongplanet.net/forums//viewtopic.php?...</td>\n      <td>babybird wrote:Yes it is. I'm just saying that...</td>\n      <td>14 04 2023</td>\n      <td>...</td>\n      <td>0.00</td>\n      <td>0.0</td>\n      <td>12.90</td>\n      <td>8.06</td>\n      <td>0.00</td>\n      <td>0.00</td>\n      <td>0.00</td>\n      <td>3.23</td>\n      <td>1.61</td>\n      <td>0.0</td>\n    </tr>\n    <tr>\n      <th>2</th>\n      <td>2</td>\n      <td>naturalplastic</td>\n      <td>16 Apr 2023, 4:35 pm</td>\n      <td>Random Discussion</td>\n      <td>What's the last weirdest dream you had?</td>\n      <td>3785</td>\n      <td>131842</td>\n      <td>https://wrongplanet.net/forums//viewtopic.php?...</td>\n      <td>Aspinator wrote:I dreamed I was a crewman on a...</td>\n      <td>16 04 2023</td>\n      <td>...</td>\n      <td>0.00</td>\n      <td>0.0</td>\n      <td>18.81</td>\n      <td>8.91</td>\n      <td>0.00</td>\n      <td>1.98</td>\n      <td>0.00</td>\n      <td>0.99</td>\n      <td>6.93</td>\n      <td>0.0</td>\n    </tr>\n    <tr>\n      <th>3</th>\n      <td>3</td>\n      <td>naturalplastic</td>\n      <td>19 Apr 2023, 4:10 pm</td>\n      <td>The Haven</td>\n      <td>Why do people believe in the insanity defense?</td>\n      <td>16</td>\n      <td>248</td>\n      <td>https://wrongplanet.net/forums//viewtopic.php?...</td>\n      <td>\"Insanity\" doesnt mean the same thing in law a...</td>\n      <td>19 04 2023</td>\n      <td>...</td>\n      <td>0.00</td>\n      <td>0.0</td>\n      <td>18.35</td>\n      <td>6.42</td>\n      <td>2.75</td>\n      <td>0.00</td>\n      <td>0.00</td>\n      <td>0.00</td>\n      <td>9.17</td>\n      <td>0.0</td>\n    </tr>\n    <tr>\n      <th>4</th>\n      <td>4</td>\n      <td>naturalplastic</td>\n      <td>Yesterday, 6:12 pm</td>\n      <td>News and Current Events</td>\n      <td>Tucker Carlson canceled</td>\n      <td>28</td>\n      <td>470</td>\n      <td>https://wrongplanet.net/forums//viewtopic.php?...</td>\n      <td>MuddRM wrote:funeralxempire wrote:MuddRM wrote...</td>\n      <td>25 04 2023</td>\n      <td>...</td>\n      <td>0.00</td>\n      <td>0.0</td>\n      <td>27.98</td>\n      <td>6.55</td>\n      <td>2.98</td>\n      <td>0.60</td>\n      <td>0.60</td>\n      <td>1.79</td>\n      <td>15.48</td>\n      <td>0.0</td>\n    </tr>\n    <tr>\n      <th>...</th>\n      <td>...</td>\n      <td>...</td>\n      <td>...</td>\n      <td>...</td>\n      <td>...</td>\n      <td>...</td>\n      <td>...</td>\n      <td>...</td>\n      <td>...</td>\n      <td>...</td>\n      <td>...</td>\n      <td>...</td>\n      <td>...</td>\n      <td>...</td>\n      <td>...</td>\n      <td>...</td>\n      <td>...</td>\n      <td>...</td>\n      <td>...</td>\n      <td>...</td>\n      <td>...</td>\n    </tr>\n    <tr>\n      <th>496890</th>\n      <td>496918</td>\n      <td>CodyD8786</td>\n      <td>12 Oct 2016, 11:31 pm</td>\n      <td>General Autism Discussion</td>\n      <td>facebook page for ASD</td>\n      <td>3</td>\n      <td>403</td>\n      <td>https://wrongplanet.net/forums//viewtopic.php?...</td>\n      <td>\\nThat would be awesome considering I just got...</td>\n      <td>12 10 2016</td>\n      <td>...</td>\n      <td>0.00</td>\n      <td>0.0</td>\n      <td>10.53</td>\n      <td>10.53</td>\n      <td>0.00</td>\n      <td>0.00</td>\n      <td>0.00</td>\n      <td>0.00</td>\n      <td>0.00</td>\n      <td>0.0</td>\n    </tr>\n    <tr>\n      <th>496891</th>\n      <td>496919</td>\n      <td>CodyD8786</td>\n      <td>12 Oct 2016, 12:15 pm</td>\n      <td>General Autism Discussion</td>\n      <td>Do you consider yourself a happy person?</td>\n      <td>19</td>\n      <td>776</td>\n      <td>https://wrongplanet.net/forums//viewtopic.php?...</td>\n      <td>\\nMost of the time I am happy. I have had the ...</td>\n      <td>12 10 2016</td>\n      <td>...</td>\n      <td>0.00</td>\n      <td>0.0</td>\n      <td>14.52</td>\n      <td>9.68</td>\n      <td>0.00</td>\n      <td>0.00</td>\n      <td>0.00</td>\n      <td>1.61</td>\n      <td>3.23</td>\n      <td>0.0</td>\n    </tr>\n    <tr>\n      <th>496892</th>\n      <td>496920</td>\n      <td>GuitarJamz16</td>\n      <td>29 Sep 2016, 6:10 pm</td>\n      <td>The Haven</td>\n      <td>scale of -10 to +10, how do you feel right now?</td>\n      <td>35050</td>\n      <td>1729069</td>\n      <td>https://wrongplanet.net/forums//viewtopic.php?...</td>\n      <td>\\n0. Quite simply. At a coffee shop, everyone ...</td>\n      <td>29 09 2016</td>\n      <td>...</td>\n      <td>0.00</td>\n      <td>0.0</td>\n      <td>24.49</td>\n      <td>10.20</td>\n      <td>12.24</td>\n      <td>0.00</td>\n      <td>0.00</td>\n      <td>0.00</td>\n      <td>2.04</td>\n      <td>0.0</td>\n    </tr>\n    <tr>\n      <th>496893</th>\n      <td>496921</td>\n      <td>GuitarJamz16</td>\n      <td>29 Sep 2016, 2:41 pm</td>\n      <td>Love and Dating</td>\n      <td>Eligible Odd-Bods! - The Premier Aspergian Sin...</td>\n      <td>3733</td>\n      <td>1251231</td>\n      <td>https://wrongplanet.net/forums//viewtopic.php?...</td>\n      <td>\\nAny stories of hookups in WP? I just joined!...</td>\n      <td>29 09 2016</td>\n      <td>...</td>\n      <td>0.00</td>\n      <td>0.0</td>\n      <td>22.22</td>\n      <td>0.00</td>\n      <td>0.00</td>\n      <td>11.11</td>\n      <td>11.11</td>\n      <td>0.00</td>\n      <td>0.00</td>\n      <td>0.0</td>\n    </tr>\n    <tr>\n      <th>496894</th>\n      <td>496922</td>\n      <td>GuitarJamz16</td>\n      <td>28 Sep 2016, 7:22 pm</td>\n      <td>General Autism Discussion</td>\n      <td>Does anyone else with Asperger's have issues w...</td>\n      <td>52</td>\n      <td>1818</td>\n      <td>https://wrongplanet.net/forums//viewtopic.php?...</td>\n      <td>\\nI'm 57 (ugh), but missed out on normal teena...</td>\n      <td>28 09 2016</td>\n      <td>...</td>\n      <td>1.69</td>\n      <td>0.0</td>\n      <td>27.12</td>\n      <td>6.78</td>\n      <td>10.17</td>\n      <td>0.00</td>\n      <td>0.00</td>\n      <td>3.39</td>\n      <td>6.78</td>\n      <td>0.0</td>\n    </tr>\n  </tbody>\n</table>\n<p>373504 rows × 130 columns</p>\n</div>"
     },
     "execution_count": 25,
     "metadata": {},
     "output_type": "execute_result"
    }
   ],
   "source": [
    "df = pd.read_csv('data/author_post_final_LIWC.csv', encoding='utf-8')\n",
    "index_diagnosis = df['author'].isin(author_diagnosis_set)\n",
    "df = df[index_diagnosis]\n",
    "df"
   ],
   "metadata": {
    "collapsed": false,
    "pycharm": {
     "name": "#%%\n"
    }
   }
  },
  {
   "cell_type": "code",
   "execution_count": 26,
   "outputs": [
    {
     "data": {
      "text/plain": "        Unnamed: 0          author              post_time  \\\n0                0  naturalplastic   22 Apr 2023, 8:58 pm   \n1                1  naturalplastic   14 Apr 2023, 8:14 pm   \n2                2  naturalplastic   16 Apr 2023, 4:35 pm   \n3                3  naturalplastic   19 Apr 2023, 4:10 pm   \n4                4  naturalplastic     Yesterday, 6:12 pm   \n...            ...             ...                    ...   \n496839      496867      leodfelion  21 Oct 2016, 10:20 am   \n496842      496870       millzymai   26 Nov 2015, 6:42 pm   \n496843      496871       millzymai   26 Nov 2015, 6:18 pm   \n496891      496919       CodyD8786  12 Oct 2016, 12:15 pm   \n496894      496922    GuitarJamz16   28 Sep 2016, 7:22 pm   \n\n                             forum  \\\n0          News and Current Events   \n1                        The Haven   \n2                Random Discussion   \n3                        The Haven   \n4          News and Current Events   \n...                            ...   \n496839  Getting to know each other   \n496842             Love and Dating   \n496843  Getting to know each other   \n496891   General Autism Discussion   \n496894   General Autism Discussion   \n\n                                                    topic reply     view  \\\n0       Netflix causes international uproar over Cleop...    44      961   \n1                                        Serious Question    54      649   \n2                 What's the last weirdest dream you had?  3785   131842   \n3          Why do people believe in the insanity defense?    16      248   \n4                                 Tucker Carlson canceled    28      470   \n...                                                   ...   ...      ...   \n496839                       Finally Finding Myself......     4      255   \n496842  Eligible Odd-Bods! - The Premier Aspergian Sin...  3733  1251230   \n496843                                            New guy    10      241   \n496891           Do you consider yourself a happy person?    19      776   \n496894  Does anyone else with Asperger's have issues w...    52     1818   \n\n                                                post_link  \\\n0       https://wrongplanet.net/forums//viewtopic.php?...   \n1       https://wrongplanet.net/forums//viewtopic.php?...   \n2       https://wrongplanet.net/forums//viewtopic.php?...   \n3       https://wrongplanet.net/forums//viewtopic.php?...   \n4       https://wrongplanet.net/forums//viewtopic.php?...   \n...                                                   ...   \n496839  https://wrongplanet.net/forums//viewtopic.php?...   \n496842  https://wrongplanet.net/forums//viewtopic.php?...   \n496843  https://wrongplanet.net/forums//viewtopic.php?...   \n496891  https://wrongplanet.net/forums//viewtopic.php?...   \n496894  https://wrongplanet.net/forums//viewtopic.php?...   \n\n                                             post_content         p_t  ...  \\\n0       ^You displayed sanity in this post...until the...  22 04 2023  ...   \n1       babybird wrote:Yes it is. I'm just saying that...  14 04 2023  ...   \n2       Aspinator wrote:I dreamed I was a crewman on a...  16 04 2023  ...   \n3       \"Insanity\" doesnt mean the same thing in law a...  19 04 2023  ...   \n4       MuddRM wrote:funeralxempire wrote:MuddRM wrote...  25 04 2023  ...   \n...                                                   ...         ...  ...   \n496839  \\nGreetings everyone. I'm not really new to th...  21 10 2016  ...   \n496842  \\nName: MillieAge: 23Occupation: PhD student i...  26 11 2015  ...   \n496843  \\nHi! I am Millie  I can completely relate to ...  26 11 2015  ...   \n496891  \\nMost of the time I am happy. I have had the ...  12 10 2016  ...   \n496894  \\nI'm 57 (ugh), but missed out on normal teena...  28 09 2016  ...   \n\n       nonflu  filler  AllPunc  Period  Comma  QMark  Exclam  Apostro  OtherP  \\\n0        0.00     0.0    15.35    7.48   4.33   1.18    0.00     0.00    2.36   \n1        0.00     0.0    12.90    8.06   0.00   0.00    0.00     3.23    1.61   \n2        0.00     0.0    18.81    8.91   0.00   1.98    0.00     0.99    6.93   \n3        0.00     0.0    18.35    6.42   2.75   0.00    0.00     0.00    9.17   \n4        0.00     0.0    27.98    6.55   2.98   0.60    0.60     1.79   15.48   \n...       ...     ...      ...     ...    ...    ...     ...      ...     ...   \n496839   0.00     0.0    14.26    6.25   3.52   0.00    0.39     2.15    1.95   \n496842   0.00     0.0    31.03    4.60  11.49   0.00    0.00     0.00   14.94   \n496843   0.00     0.0    13.68    6.32   5.26   0.00    2.11     0.00    0.00   \n496891   0.00     0.0    14.52    9.68   0.00   0.00    0.00     1.61    3.23   \n496894   1.69     0.0    27.12    6.78  10.17   0.00    0.00     3.39    6.78   \n\n        Emoji  \n0         0.0  \n1         0.0  \n2         0.0  \n3         0.0  \n4         0.0  \n...       ...  \n496839    0.0  \n496842    0.0  \n496843    0.0  \n496891    0.0  \n496894    0.0  \n\n[153338 rows x 130 columns]",
      "text/html": "<div>\n<style scoped>\n    .dataframe tbody tr th:only-of-type {\n        vertical-align: middle;\n    }\n\n    .dataframe tbody tr th {\n        vertical-align: top;\n    }\n\n    .dataframe thead th {\n        text-align: right;\n    }\n</style>\n<table border=\"1\" class=\"dataframe\">\n  <thead>\n    <tr style=\"text-align: right;\">\n      <th></th>\n      <th>Unnamed: 0</th>\n      <th>author</th>\n      <th>post_time</th>\n      <th>forum</th>\n      <th>topic</th>\n      <th>reply</th>\n      <th>view</th>\n      <th>post_link</th>\n      <th>post_content</th>\n      <th>p_t</th>\n      <th>...</th>\n      <th>nonflu</th>\n      <th>filler</th>\n      <th>AllPunc</th>\n      <th>Period</th>\n      <th>Comma</th>\n      <th>QMark</th>\n      <th>Exclam</th>\n      <th>Apostro</th>\n      <th>OtherP</th>\n      <th>Emoji</th>\n    </tr>\n  </thead>\n  <tbody>\n    <tr>\n      <th>0</th>\n      <td>0</td>\n      <td>naturalplastic</td>\n      <td>22 Apr 2023, 8:58 pm</td>\n      <td>News and Current Events</td>\n      <td>Netflix causes international uproar over Cleop...</td>\n      <td>44</td>\n      <td>961</td>\n      <td>https://wrongplanet.net/forums//viewtopic.php?...</td>\n      <td>^You displayed sanity in this post...until the...</td>\n      <td>22 04 2023</td>\n      <td>...</td>\n      <td>0.00</td>\n      <td>0.0</td>\n      <td>15.35</td>\n      <td>7.48</td>\n      <td>4.33</td>\n      <td>1.18</td>\n      <td>0.00</td>\n      <td>0.00</td>\n      <td>2.36</td>\n      <td>0.0</td>\n    </tr>\n    <tr>\n      <th>1</th>\n      <td>1</td>\n      <td>naturalplastic</td>\n      <td>14 Apr 2023, 8:14 pm</td>\n      <td>The Haven</td>\n      <td>Serious Question</td>\n      <td>54</td>\n      <td>649</td>\n      <td>https://wrongplanet.net/forums//viewtopic.php?...</td>\n      <td>babybird wrote:Yes it is. I'm just saying that...</td>\n      <td>14 04 2023</td>\n      <td>...</td>\n      <td>0.00</td>\n      <td>0.0</td>\n      <td>12.90</td>\n      <td>8.06</td>\n      <td>0.00</td>\n      <td>0.00</td>\n      <td>0.00</td>\n      <td>3.23</td>\n      <td>1.61</td>\n      <td>0.0</td>\n    </tr>\n    <tr>\n      <th>2</th>\n      <td>2</td>\n      <td>naturalplastic</td>\n      <td>16 Apr 2023, 4:35 pm</td>\n      <td>Random Discussion</td>\n      <td>What's the last weirdest dream you had?</td>\n      <td>3785</td>\n      <td>131842</td>\n      <td>https://wrongplanet.net/forums//viewtopic.php?...</td>\n      <td>Aspinator wrote:I dreamed I was a crewman on a...</td>\n      <td>16 04 2023</td>\n      <td>...</td>\n      <td>0.00</td>\n      <td>0.0</td>\n      <td>18.81</td>\n      <td>8.91</td>\n      <td>0.00</td>\n      <td>1.98</td>\n      <td>0.00</td>\n      <td>0.99</td>\n      <td>6.93</td>\n      <td>0.0</td>\n    </tr>\n    <tr>\n      <th>3</th>\n      <td>3</td>\n      <td>naturalplastic</td>\n      <td>19 Apr 2023, 4:10 pm</td>\n      <td>The Haven</td>\n      <td>Why do people believe in the insanity defense?</td>\n      <td>16</td>\n      <td>248</td>\n      <td>https://wrongplanet.net/forums//viewtopic.php?...</td>\n      <td>\"Insanity\" doesnt mean the same thing in law a...</td>\n      <td>19 04 2023</td>\n      <td>...</td>\n      <td>0.00</td>\n      <td>0.0</td>\n      <td>18.35</td>\n      <td>6.42</td>\n      <td>2.75</td>\n      <td>0.00</td>\n      <td>0.00</td>\n      <td>0.00</td>\n      <td>9.17</td>\n      <td>0.0</td>\n    </tr>\n    <tr>\n      <th>4</th>\n      <td>4</td>\n      <td>naturalplastic</td>\n      <td>Yesterday, 6:12 pm</td>\n      <td>News and Current Events</td>\n      <td>Tucker Carlson canceled</td>\n      <td>28</td>\n      <td>470</td>\n      <td>https://wrongplanet.net/forums//viewtopic.php?...</td>\n      <td>MuddRM wrote:funeralxempire wrote:MuddRM wrote...</td>\n      <td>25 04 2023</td>\n      <td>...</td>\n      <td>0.00</td>\n      <td>0.0</td>\n      <td>27.98</td>\n      <td>6.55</td>\n      <td>2.98</td>\n      <td>0.60</td>\n      <td>0.60</td>\n      <td>1.79</td>\n      <td>15.48</td>\n      <td>0.0</td>\n    </tr>\n    <tr>\n      <th>...</th>\n      <td>...</td>\n      <td>...</td>\n      <td>...</td>\n      <td>...</td>\n      <td>...</td>\n      <td>...</td>\n      <td>...</td>\n      <td>...</td>\n      <td>...</td>\n      <td>...</td>\n      <td>...</td>\n      <td>...</td>\n      <td>...</td>\n      <td>...</td>\n      <td>...</td>\n      <td>...</td>\n      <td>...</td>\n      <td>...</td>\n      <td>...</td>\n      <td>...</td>\n      <td>...</td>\n    </tr>\n    <tr>\n      <th>496839</th>\n      <td>496867</td>\n      <td>leodfelion</td>\n      <td>21 Oct 2016, 10:20 am</td>\n      <td>Getting to know each other</td>\n      <td>Finally Finding Myself......</td>\n      <td>4</td>\n      <td>255</td>\n      <td>https://wrongplanet.net/forums//viewtopic.php?...</td>\n      <td>\\nGreetings everyone. I'm not really new to th...</td>\n      <td>21 10 2016</td>\n      <td>...</td>\n      <td>0.00</td>\n      <td>0.0</td>\n      <td>14.26</td>\n      <td>6.25</td>\n      <td>3.52</td>\n      <td>0.00</td>\n      <td>0.39</td>\n      <td>2.15</td>\n      <td>1.95</td>\n      <td>0.0</td>\n    </tr>\n    <tr>\n      <th>496842</th>\n      <td>496870</td>\n      <td>millzymai</td>\n      <td>26 Nov 2015, 6:42 pm</td>\n      <td>Love and Dating</td>\n      <td>Eligible Odd-Bods! - The Premier Aspergian Sin...</td>\n      <td>3733</td>\n      <td>1251230</td>\n      <td>https://wrongplanet.net/forums//viewtopic.php?...</td>\n      <td>\\nName: MillieAge: 23Occupation: PhD student i...</td>\n      <td>26 11 2015</td>\n      <td>...</td>\n      <td>0.00</td>\n      <td>0.0</td>\n      <td>31.03</td>\n      <td>4.60</td>\n      <td>11.49</td>\n      <td>0.00</td>\n      <td>0.00</td>\n      <td>0.00</td>\n      <td>14.94</td>\n      <td>0.0</td>\n    </tr>\n    <tr>\n      <th>496843</th>\n      <td>496871</td>\n      <td>millzymai</td>\n      <td>26 Nov 2015, 6:18 pm</td>\n      <td>Getting to know each other</td>\n      <td>New guy</td>\n      <td>10</td>\n      <td>241</td>\n      <td>https://wrongplanet.net/forums//viewtopic.php?...</td>\n      <td>\\nHi! I am Millie  I can completely relate to ...</td>\n      <td>26 11 2015</td>\n      <td>...</td>\n      <td>0.00</td>\n      <td>0.0</td>\n      <td>13.68</td>\n      <td>6.32</td>\n      <td>5.26</td>\n      <td>0.00</td>\n      <td>2.11</td>\n      <td>0.00</td>\n      <td>0.00</td>\n      <td>0.0</td>\n    </tr>\n    <tr>\n      <th>496891</th>\n      <td>496919</td>\n      <td>CodyD8786</td>\n      <td>12 Oct 2016, 12:15 pm</td>\n      <td>General Autism Discussion</td>\n      <td>Do you consider yourself a happy person?</td>\n      <td>19</td>\n      <td>776</td>\n      <td>https://wrongplanet.net/forums//viewtopic.php?...</td>\n      <td>\\nMost of the time I am happy. I have had the ...</td>\n      <td>12 10 2016</td>\n      <td>...</td>\n      <td>0.00</td>\n      <td>0.0</td>\n      <td>14.52</td>\n      <td>9.68</td>\n      <td>0.00</td>\n      <td>0.00</td>\n      <td>0.00</td>\n      <td>1.61</td>\n      <td>3.23</td>\n      <td>0.0</td>\n    </tr>\n    <tr>\n      <th>496894</th>\n      <td>496922</td>\n      <td>GuitarJamz16</td>\n      <td>28 Sep 2016, 7:22 pm</td>\n      <td>General Autism Discussion</td>\n      <td>Does anyone else with Asperger's have issues w...</td>\n      <td>52</td>\n      <td>1818</td>\n      <td>https://wrongplanet.net/forums//viewtopic.php?...</td>\n      <td>\\nI'm 57 (ugh), but missed out on normal teena...</td>\n      <td>28 09 2016</td>\n      <td>...</td>\n      <td>1.69</td>\n      <td>0.0</td>\n      <td>27.12</td>\n      <td>6.78</td>\n      <td>10.17</td>\n      <td>0.00</td>\n      <td>0.00</td>\n      <td>3.39</td>\n      <td>6.78</td>\n      <td>0.0</td>\n    </tr>\n  </tbody>\n</table>\n<p>153338 rows × 130 columns</p>\n</div>"
     },
     "execution_count": 26,
     "metadata": {},
     "output_type": "execute_result"
    }
   ],
   "source": [
    "df['WC'] = pd.to_numeric(df['WC'], errors='coerce')\n",
    "index_wc = df['WC'] > 50\n",
    "df_WC_k = df[index_wc]\n",
    "df_WC_k"
   ],
   "metadata": {
    "collapsed": false,
    "pycharm": {
     "name": "#%%\n"
    }
   }
  },
  {
   "cell_type": "code",
   "execution_count": 27,
   "outputs": [],
   "source": [
    "index_eq = df_WC_k['author'].isin(author_ep_set)\n",
    "df = df_WC_k[index_eq]"
   ],
   "metadata": {
    "collapsed": false,
    "pycharm": {
     "name": "#%%\n"
    }
   }
  },
  {
   "cell_type": "code",
   "execution_count": 28,
   "outputs": [],
   "source": [
    "key_list = df['Unnamed: 0'].to_list()\n",
    "random.shuffle(key_list)\n",
    "key_train_set = set(key_list[: 40000])\n",
    "key_test_set = set(key_list[40000:])\n",
    "df_train = df['Unnamed: 0'].isin(key_train_set)\n",
    "df_test = df['Unnamed: 0'].isin(key_test_set)"
   ],
   "metadata": {
    "collapsed": false,
    "pycharm": {
     "name": "#%%\n"
    }
   }
  },
  {
   "cell_type": "code",
   "execution_count": 29,
   "outputs": [],
   "source": [
    "df.to_csv(r'data\\Autism_all.csv')"
   ],
   "metadata": {
    "collapsed": false,
    "pycharm": {
     "name": "#%%\n"
    }
   }
  },
  {
   "cell_type": "code",
   "execution_count": 32,
   "outputs": [
    {
     "ename": "AttributeError",
     "evalue": "'Series' object has no attribute 'columns'",
     "output_type": "error",
     "traceback": [
      "\u001B[1;31m---------------------------------------------------------------------------\u001B[0m",
      "\u001B[1;31mAttributeError\u001B[0m                            Traceback (most recent call last)",
      "\u001B[1;32m<ipython-input-32-faf882ed9252>\u001B[0m in \u001B[0;36m<module>\u001B[1;34m\u001B[0m\n\u001B[1;32m----> 1\u001B[1;33m \u001B[0mprint\u001B[0m\u001B[1;33m(\u001B[0m\u001B[0mdf_train\u001B[0m\u001B[1;33m.\u001B[0m\u001B[0mcolumns\u001B[0m\u001B[1;33m)\u001B[0m\u001B[1;33m\u001B[0m\u001B[1;33m\u001B[0m\u001B[0m\n\u001B[0m",
      "\u001B[1;32mD:\\python\\Anaconda\\lib\\site-packages\\pandas\\core\\generic.py\u001B[0m in \u001B[0;36m__getattr__\u001B[1;34m(self, name)\u001B[0m\n\u001B[0;32m   5268\u001B[0m             \u001B[1;32mor\u001B[0m \u001B[0mname\u001B[0m \u001B[1;32min\u001B[0m \u001B[0mself\u001B[0m\u001B[1;33m.\u001B[0m\u001B[0m_accessors\u001B[0m\u001B[1;33m\u001B[0m\u001B[1;33m\u001B[0m\u001B[0m\n\u001B[0;32m   5269\u001B[0m         ):\n\u001B[1;32m-> 5270\u001B[1;33m             \u001B[1;32mreturn\u001B[0m \u001B[0mobject\u001B[0m\u001B[1;33m.\u001B[0m\u001B[0m__getattribute__\u001B[0m\u001B[1;33m(\u001B[0m\u001B[0mself\u001B[0m\u001B[1;33m,\u001B[0m \u001B[0mname\u001B[0m\u001B[1;33m)\u001B[0m\u001B[1;33m\u001B[0m\u001B[1;33m\u001B[0m\u001B[0m\n\u001B[0m\u001B[0;32m   5271\u001B[0m         \u001B[1;32melse\u001B[0m\u001B[1;33m:\u001B[0m\u001B[1;33m\u001B[0m\u001B[1;33m\u001B[0m\u001B[0m\n\u001B[0;32m   5272\u001B[0m             \u001B[1;32mif\u001B[0m \u001B[0mself\u001B[0m\u001B[1;33m.\u001B[0m\u001B[0m_info_axis\u001B[0m\u001B[1;33m.\u001B[0m\u001B[0m_can_hold_identifiers_and_holds_name\u001B[0m\u001B[1;33m(\u001B[0m\u001B[0mname\u001B[0m\u001B[1;33m)\u001B[0m\u001B[1;33m:\u001B[0m\u001B[1;33m\u001B[0m\u001B[1;33m\u001B[0m\u001B[0m\n",
      "\u001B[1;31mAttributeError\u001B[0m: 'Series' object has no attribute 'columns'"
     ]
    }
   ],
   "source": [
    "print(df_train.columns)"
   ],
   "metadata": {
    "collapsed": false,
    "pycharm": {
     "name": "#%%\n"
    }
   }
  },
  {
   "cell_type": "code",
   "execution_count": 33,
   "outputs": [],
   "source": [
    "columns_to_save = ['author', 'post_time', 'post_content']\n",
    "df[df_train][columns_to_save].to_csv('data\\LLMs_train.csv')"
   ],
   "metadata": {
    "collapsed": false,
    "pycharm": {
     "name": "#%%\n"
    }
   }
  },
  {
   "cell_type": "code",
   "execution_count": 45,
   "outputs": [],
   "source": [
    "# df_subset = df[df['author'] == 'CockneyRebel']\n",
    "# df_subset[columns_to_save].to_csv('data\\LLMs_subset.csv')"
   ],
   "metadata": {
    "collapsed": false,
    "pycharm": {
     "name": "#%%\n"
    }
   }
  },
  {
   "cell_type": "code",
   "execution_count": 34,
   "outputs": [],
   "source": [
    "columns_to_drop = ['post_content']\n",
    "df[df_train].drop(columns=columns_to_drop).to_csv('data\\Stat_train.csv')"
   ],
   "metadata": {
    "collapsed": false,
    "pycharm": {
     "name": "#%%\n"
    }
   }
  },
  {
   "cell_type": "code",
   "execution_count": 35,
   "outputs": [],
   "source": [
    "df[df_test].to_csv(r'data\\Autism_test.csv')"
   ],
   "metadata": {
    "collapsed": false,
    "pycharm": {
     "name": "#%%\n"
    }
   }
  }
 ],
 "metadata": {
  "kernelspec": {
   "display_name": "Python 3",
   "language": "python",
   "name": "python3"
  },
  "language_info": {
   "codemirror_mode": {
    "name": "ipython",
    "version": 2
   },
   "file_extension": ".py",
   "mimetype": "text/x-python",
   "name": "python",
   "nbconvert_exporter": "python",
   "pygments_lexer": "ipython2",
   "version": "2.7.6"
  }
 },
 "nbformat": 4,
 "nbformat_minor": 0
}