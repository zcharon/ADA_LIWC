{
 "cells": [
  {
   "cell_type": "code",
   "execution_count": 2,
   "outputs": [],
   "source": [
    "import pandas as pd"
   ],
   "metadata": {
    "collapsed": false,
    "pycharm": {
     "name": "#%%\n"
    }
   }
  },
  {
   "cell_type": "code",
   "execution_count": 3,
   "outputs": [
    {
     "name": "stderr",
     "output_type": "stream",
     "text": [
      "D:\\python\\Anaconda\\lib\\site-packages\\IPython\\core\\interactiveshell.py:3063: DtypeWarning: Columns (5,6) have mixed types.Specify dtype option on import or set low_memory=False.\n",
      "  interactivity=interactivity, compiler=compiler, result=result)\n"
     ]
    }
   ],
   "source": [
    "df = pd.read_csv('data/author_post_final_LIWC.csv')"
   ],
   "metadata": {
    "collapsed": false,
    "pycharm": {
     "name": "#%%\n"
    }
   }
  },
  {
   "cell_type": "code",
   "execution_count": 4,
   "outputs": [
    {
     "data": {
      "text/plain": "        Unnamed: 0          author             post_time  \\\n0                0  naturalplastic  22 Apr 2023, 8:58 pm   \n1                1  naturalplastic  14 Apr 2023, 8:14 pm   \n2                2  naturalplastic  16 Apr 2023, 4:35 pm   \n3                3  naturalplastic  19 Apr 2023, 4:10 pm   \n4                4  naturalplastic    Yesterday, 6:12 pm   \n...            ...             ...                   ...   \n496892      496920    GuitarJamz16  29 Sep 2016, 6:10 pm   \n496893      496921    GuitarJamz16  29 Sep 2016, 2:41 pm   \n496894      496922    GuitarJamz16  28 Sep 2016, 7:22 pm   \n496895      496923         Rory Mc  06 Sep 2016, 5:20 am   \n496896      496924         Rory Mc  05 Sep 2016, 8:01 am   \n\n                            forum  \\\n0         News and Current Events   \n1                       The Haven   \n2               Random Discussion   \n3                       The Haven   \n4         News and Current Events   \n...                           ...   \n496892                  The Haven   \n496893            Love and Dating   \n496894  General Autism Discussion   \n496895  General Autism Discussion   \n496896  General Autism Discussion   \n\n                                                    topic  reply     view  \\\n0       Netflix causes international uproar over Cleop...     44      961   \n1                                        Serious Question     54      649   \n2                 What's the last weirdest dream you had?   3785   131842   \n3          Why do people believe in the insanity defense?     16      248   \n4                                 Tucker Carlson canceled     28      470   \n...                                                   ...    ...      ...   \n496892    scale of -10 to +10, how do you feel right now?  35050  1729069   \n496893  Eligible Odd-Bods! - The Premier Aspergian Sin...   3733  1251231   \n496894  Does anyone else with Asperger's have issues w...     52     1818   \n496895  Powerball gyroscope for physical sensory input...      2      701   \n496896  Powerball gyroscope for physical sensory input...      2      701   \n\n                                                post_link  \\\n0       https://wrongplanet.net/forums//viewtopic.php?...   \n1       https://wrongplanet.net/forums//viewtopic.php?...   \n2       https://wrongplanet.net/forums//viewtopic.php?...   \n3       https://wrongplanet.net/forums//viewtopic.php?...   \n4       https://wrongplanet.net/forums//viewtopic.php?...   \n...                                                   ...   \n496892  https://wrongplanet.net/forums//viewtopic.php?...   \n496893  https://wrongplanet.net/forums//viewtopic.php?...   \n496894  https://wrongplanet.net/forums//viewtopic.php?...   \n496895  https://wrongplanet.net/forums//viewtopic.php?...   \n496896  https://wrongplanet.net/forums//viewtopic.php?...   \n\n                                             post_content         p_t  ...  \\\n0       ^You displayed sanity in this post...until the...  22 04 2023  ...   \n1       babybird wrote:Yes it is. I'm just saying that...  14 04 2023  ...   \n2       Aspinator wrote:I dreamed I was a crewman on a...  16 04 2023  ...   \n3       \"Insanity\" doesnt mean the same thing in law a...  19 04 2023  ...   \n4       MuddRM wrote:funeralxempire wrote:MuddRM wrote...  25 04 2023  ...   \n...                                                   ...         ...  ...   \n496892  \\n0. Quite simply. At a coffee shop, everyone ...  29 09 2016  ...   \n496893  \\nAny stories of hookups in WP? I just joined!...  29 09 2016  ...   \n496894  \\nI'm 57 (ugh), but missed out on normal teena...  28 09 2016  ...   \n496895  \\nHello iammazThank you for your reply and com...  06 09 2016  ...   \n496896  \\nGreetings allI write to ask some advice and ...  05 09 2016  ...   \n\n       nonflu  filler  AllPunc  Period  Comma  QMark  Exclam  Apostro  OtherP  \\\n0        0.00     0.0    15.35    7.48   4.33   1.18    0.00     0.00    2.36   \n1        0.00     0.0    12.90    8.06   0.00   0.00    0.00     3.23    1.61   \n2        0.00     0.0    18.81    8.91   0.00   1.98    0.00     0.99    6.93   \n3        0.00     0.0    18.35    6.42   2.75   0.00    0.00     0.00    9.17   \n4        0.00     0.0    27.98    6.55   2.98   0.60    0.60     1.79   15.48   \n...       ...     ...      ...     ...    ...    ...     ...      ...     ...   \n496892   0.00     0.0    24.49   10.20  12.24   0.00    0.00     0.00    2.04   \n496893   0.00     0.0    22.22    0.00   0.00  11.11   11.11     0.00    0.00   \n496894   1.69     0.0    27.12    6.78  10.17   0.00    0.00     3.39    6.78   \n496895   0.00     0.0    18.58    2.19   5.46   0.00    0.55     1.09    9.29   \n496896   0.00     0.0    14.08    2.90   3.63   0.44    0.00     3.63    3.48   \n\n        Emoji  \n0         0.0  \n1         0.0  \n2         0.0  \n3         0.0  \n4         0.0  \n...       ...  \n496892    0.0  \n496893    0.0  \n496894    0.0  \n496895    0.0  \n496896    0.0  \n\n[496897 rows x 130 columns]",
      "text/html": "<div>\n<style scoped>\n    .dataframe tbody tr th:only-of-type {\n        vertical-align: middle;\n    }\n\n    .dataframe tbody tr th {\n        vertical-align: top;\n    }\n\n    .dataframe thead th {\n        text-align: right;\n    }\n</style>\n<table border=\"1\" class=\"dataframe\">\n  <thead>\n    <tr style=\"text-align: right;\">\n      <th></th>\n      <th>Unnamed: 0</th>\n      <th>author</th>\n      <th>post_time</th>\n      <th>forum</th>\n      <th>topic</th>\n      <th>reply</th>\n      <th>view</th>\n      <th>post_link</th>\n      <th>post_content</th>\n      <th>p_t</th>\n      <th>...</th>\n      <th>nonflu</th>\n      <th>filler</th>\n      <th>AllPunc</th>\n      <th>Period</th>\n      <th>Comma</th>\n      <th>QMark</th>\n      <th>Exclam</th>\n      <th>Apostro</th>\n      <th>OtherP</th>\n      <th>Emoji</th>\n    </tr>\n  </thead>\n  <tbody>\n    <tr>\n      <th>0</th>\n      <td>0</td>\n      <td>naturalplastic</td>\n      <td>22 Apr 2023, 8:58 pm</td>\n      <td>News and Current Events</td>\n      <td>Netflix causes international uproar over Cleop...</td>\n      <td>44</td>\n      <td>961</td>\n      <td>https://wrongplanet.net/forums//viewtopic.php?...</td>\n      <td>^You displayed sanity in this post...until the...</td>\n      <td>22 04 2023</td>\n      <td>...</td>\n      <td>0.00</td>\n      <td>0.0</td>\n      <td>15.35</td>\n      <td>7.48</td>\n      <td>4.33</td>\n      <td>1.18</td>\n      <td>0.00</td>\n      <td>0.00</td>\n      <td>2.36</td>\n      <td>0.0</td>\n    </tr>\n    <tr>\n      <th>1</th>\n      <td>1</td>\n      <td>naturalplastic</td>\n      <td>14 Apr 2023, 8:14 pm</td>\n      <td>The Haven</td>\n      <td>Serious Question</td>\n      <td>54</td>\n      <td>649</td>\n      <td>https://wrongplanet.net/forums//viewtopic.php?...</td>\n      <td>babybird wrote:Yes it is. I'm just saying that...</td>\n      <td>14 04 2023</td>\n      <td>...</td>\n      <td>0.00</td>\n      <td>0.0</td>\n      <td>12.90</td>\n      <td>8.06</td>\n      <td>0.00</td>\n      <td>0.00</td>\n      <td>0.00</td>\n      <td>3.23</td>\n      <td>1.61</td>\n      <td>0.0</td>\n    </tr>\n    <tr>\n      <th>2</th>\n      <td>2</td>\n      <td>naturalplastic</td>\n      <td>16 Apr 2023, 4:35 pm</td>\n      <td>Random Discussion</td>\n      <td>What's the last weirdest dream you had?</td>\n      <td>3785</td>\n      <td>131842</td>\n      <td>https://wrongplanet.net/forums//viewtopic.php?...</td>\n      <td>Aspinator wrote:I dreamed I was a crewman on a...</td>\n      <td>16 04 2023</td>\n      <td>...</td>\n      <td>0.00</td>\n      <td>0.0</td>\n      <td>18.81</td>\n      <td>8.91</td>\n      <td>0.00</td>\n      <td>1.98</td>\n      <td>0.00</td>\n      <td>0.99</td>\n      <td>6.93</td>\n      <td>0.0</td>\n    </tr>\n    <tr>\n      <th>3</th>\n      <td>3</td>\n      <td>naturalplastic</td>\n      <td>19 Apr 2023, 4:10 pm</td>\n      <td>The Haven</td>\n      <td>Why do people believe in the insanity defense?</td>\n      <td>16</td>\n      <td>248</td>\n      <td>https://wrongplanet.net/forums//viewtopic.php?...</td>\n      <td>\"Insanity\" doesnt mean the same thing in law a...</td>\n      <td>19 04 2023</td>\n      <td>...</td>\n      <td>0.00</td>\n      <td>0.0</td>\n      <td>18.35</td>\n      <td>6.42</td>\n      <td>2.75</td>\n      <td>0.00</td>\n      <td>0.00</td>\n      <td>0.00</td>\n      <td>9.17</td>\n      <td>0.0</td>\n    </tr>\n    <tr>\n      <th>4</th>\n      <td>4</td>\n      <td>naturalplastic</td>\n      <td>Yesterday, 6:12 pm</td>\n      <td>News and Current Events</td>\n      <td>Tucker Carlson canceled</td>\n      <td>28</td>\n      <td>470</td>\n      <td>https://wrongplanet.net/forums//viewtopic.php?...</td>\n      <td>MuddRM wrote:funeralxempire wrote:MuddRM wrote...</td>\n      <td>25 04 2023</td>\n      <td>...</td>\n      <td>0.00</td>\n      <td>0.0</td>\n      <td>27.98</td>\n      <td>6.55</td>\n      <td>2.98</td>\n      <td>0.60</td>\n      <td>0.60</td>\n      <td>1.79</td>\n      <td>15.48</td>\n      <td>0.0</td>\n    </tr>\n    <tr>\n      <th>...</th>\n      <td>...</td>\n      <td>...</td>\n      <td>...</td>\n      <td>...</td>\n      <td>...</td>\n      <td>...</td>\n      <td>...</td>\n      <td>...</td>\n      <td>...</td>\n      <td>...</td>\n      <td>...</td>\n      <td>...</td>\n      <td>...</td>\n      <td>...</td>\n      <td>...</td>\n      <td>...</td>\n      <td>...</td>\n      <td>...</td>\n      <td>...</td>\n      <td>...</td>\n      <td>...</td>\n    </tr>\n    <tr>\n      <th>496892</th>\n      <td>496920</td>\n      <td>GuitarJamz16</td>\n      <td>29 Sep 2016, 6:10 pm</td>\n      <td>The Haven</td>\n      <td>scale of -10 to +10, how do you feel right now?</td>\n      <td>35050</td>\n      <td>1729069</td>\n      <td>https://wrongplanet.net/forums//viewtopic.php?...</td>\n      <td>\\n0. Quite simply. At a coffee shop, everyone ...</td>\n      <td>29 09 2016</td>\n      <td>...</td>\n      <td>0.00</td>\n      <td>0.0</td>\n      <td>24.49</td>\n      <td>10.20</td>\n      <td>12.24</td>\n      <td>0.00</td>\n      <td>0.00</td>\n      <td>0.00</td>\n      <td>2.04</td>\n      <td>0.0</td>\n    </tr>\n    <tr>\n      <th>496893</th>\n      <td>496921</td>\n      <td>GuitarJamz16</td>\n      <td>29 Sep 2016, 2:41 pm</td>\n      <td>Love and Dating</td>\n      <td>Eligible Odd-Bods! - The Premier Aspergian Sin...</td>\n      <td>3733</td>\n      <td>1251231</td>\n      <td>https://wrongplanet.net/forums//viewtopic.php?...</td>\n      <td>\\nAny stories of hookups in WP? I just joined!...</td>\n      <td>29 09 2016</td>\n      <td>...</td>\n      <td>0.00</td>\n      <td>0.0</td>\n      <td>22.22</td>\n      <td>0.00</td>\n      <td>0.00</td>\n      <td>11.11</td>\n      <td>11.11</td>\n      <td>0.00</td>\n      <td>0.00</td>\n      <td>0.0</td>\n    </tr>\n    <tr>\n      <th>496894</th>\n      <td>496922</td>\n      <td>GuitarJamz16</td>\n      <td>28 Sep 2016, 7:22 pm</td>\n      <td>General Autism Discussion</td>\n      <td>Does anyone else with Asperger's have issues w...</td>\n      <td>52</td>\n      <td>1818</td>\n      <td>https://wrongplanet.net/forums//viewtopic.php?...</td>\n      <td>\\nI'm 57 (ugh), but missed out on normal teena...</td>\n      <td>28 09 2016</td>\n      <td>...</td>\n      <td>1.69</td>\n      <td>0.0</td>\n      <td>27.12</td>\n      <td>6.78</td>\n      <td>10.17</td>\n      <td>0.00</td>\n      <td>0.00</td>\n      <td>3.39</td>\n      <td>6.78</td>\n      <td>0.0</td>\n    </tr>\n    <tr>\n      <th>496895</th>\n      <td>496923</td>\n      <td>Rory Mc</td>\n      <td>06 Sep 2016, 5:20 am</td>\n      <td>General Autism Discussion</td>\n      <td>Powerball gyroscope for physical sensory input...</td>\n      <td>2</td>\n      <td>701</td>\n      <td>https://wrongplanet.net/forums//viewtopic.php?...</td>\n      <td>\\nHello iammazThank you for your reply and com...</td>\n      <td>06 09 2016</td>\n      <td>...</td>\n      <td>0.00</td>\n      <td>0.0</td>\n      <td>18.58</td>\n      <td>2.19</td>\n      <td>5.46</td>\n      <td>0.00</td>\n      <td>0.55</td>\n      <td>1.09</td>\n      <td>9.29</td>\n      <td>0.0</td>\n    </tr>\n    <tr>\n      <th>496896</th>\n      <td>496924</td>\n      <td>Rory Mc</td>\n      <td>05 Sep 2016, 8:01 am</td>\n      <td>General Autism Discussion</td>\n      <td>Powerball gyroscope for physical sensory input...</td>\n      <td>2</td>\n      <td>701</td>\n      <td>https://wrongplanet.net/forums//viewtopic.php?...</td>\n      <td>\\nGreetings allI write to ask some advice and ...</td>\n      <td>05 09 2016</td>\n      <td>...</td>\n      <td>0.00</td>\n      <td>0.0</td>\n      <td>14.08</td>\n      <td>2.90</td>\n      <td>3.63</td>\n      <td>0.44</td>\n      <td>0.00</td>\n      <td>3.63</td>\n      <td>3.48</td>\n      <td>0.0</td>\n    </tr>\n  </tbody>\n</table>\n<p>496897 rows × 130 columns</p>\n</div>"
     },
     "execution_count": 4,
     "metadata": {},
     "output_type": "execute_result"
    }
   ],
   "source": [
    "df.dropna()"
   ],
   "metadata": {
    "collapsed": false,
    "pycharm": {
     "name": "#%%\n"
    }
   }
  },
  {
   "cell_type": "code",
   "execution_count": null,
   "outputs": [],
   "source": [],
   "metadata": {
    "collapsed": false,
    "pycharm": {
     "name": "#%%\n"
    }
   }
  }
 ],
 "metadata": {
  "kernelspec": {
   "display_name": "Python 3",
   "language": "python",
   "name": "python3"
  },
  "language_info": {
   "codemirror_mode": {
    "name": "ipython",
    "version": 2
   },
   "file_extension": ".py",
   "mimetype": "text/x-python",
   "name": "python",
   "nbconvert_exporter": "python",
   "pygments_lexer": "ipython2",
   "version": "2.7.6"
  }
 },
 "nbformat": 4,
 "nbformat_minor": 0
}